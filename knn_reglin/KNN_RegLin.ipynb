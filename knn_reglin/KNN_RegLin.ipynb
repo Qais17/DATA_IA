{
 "cells": [
  {
   "cell_type": "markdown",
   "metadata": {},
   "source": [
    "# KNN & Régression linéaire"
   ]
  },
  {
   "cell_type": "markdown",
   "metadata": {},
   "source": [
    "## Introduction\n",
    "\n",
    "Cette étude utilise un petit extrait du jeu de données de la compétition Kaggle : [Yelp Business Rating Prediction](https://www.kaggle.com/c/yelp-recsys-2013).\n",
    "\n",
    "**Description des données:**\n",
    "\n",
    "- `yelp.json` est le format d'origine des données et `yelp.csv` est une verion plus accessible des mêmes données. \n",
    "- Chaque observation correspond à un avis donné par un client sur un commerce donné.\n",
    "- La colonne \"stars\" correspond à la note donnée de 1 à 5.\n",
    "- La colonne \"cool\" donne le nombre de votes \"cool\" qu'à reçu l'avis des autres utilisateurs. Tous les avis démarrent avec 0 votes \"cool\" et le nombre de votes est illimité. En d'autres termes ce vote correspond à la note obtenue par l'avis! et non celle du commerce.\n",
    "- Les colonnes \"useful\" et \"funny\" sont similaires à la précédente."
   ]
  },
  {
   "cell_type": "markdown",
   "metadata": {},
   "source": [
    "## Mission 1\n",
    "\n",
    "Charger `yelp.csv` dans un DataFrame et visualiser les 5 premières lignes."
   ]
  },
  {
   "cell_type": "code",
   "execution_count": null,
   "metadata": {},
   "outputs": [],
   "source": []
  },
  {
   "cell_type": "markdown",
   "metadata": {},
   "source": [
    "## Mission  1Bis\n",
    "\n",
    "Faire la même opération mais à partir de `yelp.json` et explorer les données."
   ]
  },
  {
   "cell_type": "code",
   "execution_count": null,
   "metadata": {},
   "outputs": [],
   "source": []
  },
  {
   "cell_type": "markdown",
   "metadata": {},
   "source": [
    "## Mission 2\n",
    "\n",
    "Etudier la relation entre chaque type de vote et le nombre d'étoiles.(La colonne stars sera traitée comme catégorique)<br>\n",
    "Coefficients de correlation, heatmap et courbes de régressions."
   ]
  },
  {
   "cell_type": "code",
   "execution_count": null,
   "metadata": {},
   "outputs": [],
   "source": [
    "# Coefficient de correlation"
   ]
  },
  {
   "cell_type": "code",
   "execution_count": 4,
   "metadata": {},
   "outputs": [],
   "source": [
    "# heatmap"
   ]
  },
  {
   "cell_type": "code",
   "execution_count": 5,
   "metadata": {},
   "outputs": [],
   "source": [
    "# nuages de points et courbes de régression"
   ]
  },
  {
   "cell_type": "markdown",
   "metadata": {},
   "source": [
    "## Mission 3\n",
    "Tester un algorithme de régression linéaire sur les données en considérant X = ('cool', 'useful', 'funny') et y = 'stars'.\n",
    "Afficher les coefficients la courbe de régression."
   ]
  },
  {
   "cell_type": "code",
   "execution_count": 10,
   "metadata": {
    "collapsed": true
   },
   "outputs": [],
   "source": []
  },
  {
   "cell_type": "markdown",
   "metadata": {},
   "source": [
    "## Mission  4\n",
    "\n",
    "Evaluer le modèle en le découpant en train/test et en calculant la RMSE"
   ]
  },
  {
   "cell_type": "code",
   "execution_count": null,
   "metadata": {},
   "outputs": [],
   "source": []
  },
  {
   "cell_type": "markdown",
   "metadata": {},
   "source": [
    "## Mission 5\n",
    "Réessayer en supprimant à chaque fois une des trois caractéristiques et comparer les RMSE."
   ]
  },
  {
   "cell_type": "code",
   "execution_count": null,
   "metadata": {},
   "outputs": [],
   "source": []
  },
  {
   "cell_type": "markdown",
   "metadata": {},
   "source": [
    "## Mission 6\n",
    "\n",
    "Trouver d'autres caractéristiques (que vous pouvez créer à partir des données existentes) qui pouraient être plus pertinentes pour la prédiction du nombre d'étoiles. Recalculer alors les RMSE.<br>\n",
    "Indication : traiter le texte."
   ]
  },
  {
   "cell_type": "code",
   "execution_count": null,
   "metadata": {},
   "outputs": [],
   "source": []
  },
  {
   "cell_type": "code",
   "execution_count": null,
   "metadata": {},
   "outputs": [],
   "source": []
  },
  {
   "cell_type": "markdown",
   "metadata": {},
   "source": [
    "## Mission 7\n",
    "\n",
    "Traietr le problème comme une classification en utilisant l'alogrithme des KNN et calculer la précision."
   ]
  },
  {
   "cell_type": "code",
   "execution_count": null,
   "metadata": {},
   "outputs": [],
   "source": []
  },
  {
   "cell_type": "markdown",
   "metadata": {},
   "source": [
    "## Mission 8\n",
    "\n",
    "Trouver un moyen d'utiliser la regression linéaire conmme algorithme de classification et comparer sa précision à celle obtenue par KNN."
   ]
  },
  {
   "cell_type": "code",
   "execution_count": null,
   "metadata": {},
   "outputs": [],
   "source": []
  },
  {
   "cell_type": "code",
   "execution_count": null,
   "metadata": {},
   "outputs": [],
   "source": []
  }
 ],
 "metadata": {
  "kernelspec": {
   "display_name": "Python 3",
   "language": "python",
   "name": "python3"
  },
  "language_info": {
   "codemirror_mode": {
    "name": "ipython",
    "version": 3
   },
   "file_extension": ".py",
   "mimetype": "text/x-python",
   "name": "python",
   "nbconvert_exporter": "python",
   "pygments_lexer": "ipython3",
   "version": "3.6.6"
  }
 },
 "nbformat": 4,
 "nbformat_minor": 1
}
